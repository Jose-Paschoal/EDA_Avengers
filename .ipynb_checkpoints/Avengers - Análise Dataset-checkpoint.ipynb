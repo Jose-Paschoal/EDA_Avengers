{
 "cells": [
  {
   "cell_type": "markdown",
   "id": "2484a39e-96c2-48dc-8815-5054056e2fe4",
   "metadata": {},
   "source": [
    "# Estudos - Dataset - Avengers"
   ]
  },
  {
   "cell_type": "markdown",
   "id": "dd4b7710-f12b-45ec-99f2-91a9084968d1",
   "metadata": {},
   "source": [
    "Esse dataset se encontra disponível no Kaggle, a ideia é praticar um pouco das técnicas de EDA"
   ]
  },
  {
   "cell_type": "code",
   "execution_count": 1,
   "id": "676ff23e-264c-4926-97d4-98e3c5300206",
   "metadata": {},
   "outputs": [],
   "source": [
    "## bibliotecas iniciais\n",
    "\n",
    "import pandas as pd\n",
    "import numpy as np\n",
    "\n",
    "pd.set_option('display.max_columns', None)"
   ]
  },
  {
   "cell_type": "code",
   "execution_count": 2,
   "id": "92a9b7aa-456d-41db-938f-21c5faaaec37",
   "metadata": {},
   "outputs": [
    {
     "name": "stdout",
     "output_type": "stream",
     "text": [
      "O dataset contém 21 colunas e 173 linhas\n"
     ]
    },
    {
     "data": {
      "text/html": [
       "<div>\n",
       "<style scoped>\n",
       "    .dataframe tbody tr th:only-of-type {\n",
       "        vertical-align: middle;\n",
       "    }\n",
       "\n",
       "    .dataframe tbody tr th {\n",
       "        vertical-align: top;\n",
       "    }\n",
       "\n",
       "    .dataframe thead th {\n",
       "        text-align: right;\n",
       "    }\n",
       "</style>\n",
       "<table border=\"1\" class=\"dataframe\">\n",
       "  <thead>\n",
       "    <tr style=\"text-align: right;\">\n",
       "      <th></th>\n",
       "      <th>URL</th>\n",
       "      <th>Name/Alias</th>\n",
       "      <th>Appearances</th>\n",
       "      <th>Current?</th>\n",
       "      <th>Gender</th>\n",
       "      <th>Probationary Introl</th>\n",
       "      <th>Full/Reserve Avengers Intro</th>\n",
       "      <th>Year</th>\n",
       "      <th>Years since joining</th>\n",
       "      <th>Honorary</th>\n",
       "      <th>Death1</th>\n",
       "      <th>Return1</th>\n",
       "      <th>Death2</th>\n",
       "      <th>Return2</th>\n",
       "      <th>Death3</th>\n",
       "      <th>Return3</th>\n",
       "      <th>Death4</th>\n",
       "      <th>Return4</th>\n",
       "      <th>Death5</th>\n",
       "      <th>Return5</th>\n",
       "      <th>Notes</th>\n",
       "    </tr>\n",
       "  </thead>\n",
       "  <tbody>\n",
       "    <tr>\n",
       "      <th>0</th>\n",
       "      <td>http://marvel.wikia.com/Henry_Pym_(Earth-616)</td>\n",
       "      <td>Henry Jonathan \"Hank\" Pym</td>\n",
       "      <td>1269</td>\n",
       "      <td>YES</td>\n",
       "      <td>MALE</td>\n",
       "      <td>NaN</td>\n",
       "      <td>Sep-63</td>\n",
       "      <td>1963</td>\n",
       "      <td>52</td>\n",
       "      <td>Full</td>\n",
       "      <td>YES</td>\n",
       "      <td>NO</td>\n",
       "      <td>NaN</td>\n",
       "      <td>NaN</td>\n",
       "      <td>NaN</td>\n",
       "      <td>NaN</td>\n",
       "      <td>NaN</td>\n",
       "      <td>NaN</td>\n",
       "      <td>NaN</td>\n",
       "      <td>NaN</td>\n",
       "      <td>Merged with Ultron in Rage of Ultron Vol. 1. A...</td>\n",
       "    </tr>\n",
       "    <tr>\n",
       "      <th>1</th>\n",
       "      <td>http://marvel.wikia.com/Janet_van_Dyne_(Earth-...</td>\n",
       "      <td>Janet van Dyne</td>\n",
       "      <td>1165</td>\n",
       "      <td>YES</td>\n",
       "      <td>FEMALE</td>\n",
       "      <td>NaN</td>\n",
       "      <td>Sep-63</td>\n",
       "      <td>1963</td>\n",
       "      <td>52</td>\n",
       "      <td>Full</td>\n",
       "      <td>YES</td>\n",
       "      <td>YES</td>\n",
       "      <td>NaN</td>\n",
       "      <td>NaN</td>\n",
       "      <td>NaN</td>\n",
       "      <td>NaN</td>\n",
       "      <td>NaN</td>\n",
       "      <td>NaN</td>\n",
       "      <td>NaN</td>\n",
       "      <td>NaN</td>\n",
       "      <td>Dies in Secret Invasion V1:I8. Actually was se...</td>\n",
       "    </tr>\n",
       "    <tr>\n",
       "      <th>2</th>\n",
       "      <td>http://marvel.wikia.com/Anthony_Stark_(Earth-616)</td>\n",
       "      <td>Anthony Edward \"Tony\" Stark</td>\n",
       "      <td>3068</td>\n",
       "      <td>YES</td>\n",
       "      <td>MALE</td>\n",
       "      <td>NaN</td>\n",
       "      <td>Sep-63</td>\n",
       "      <td>1963</td>\n",
       "      <td>52</td>\n",
       "      <td>Full</td>\n",
       "      <td>YES</td>\n",
       "      <td>YES</td>\n",
       "      <td>NaN</td>\n",
       "      <td>NaN</td>\n",
       "      <td>NaN</td>\n",
       "      <td>NaN</td>\n",
       "      <td>NaN</td>\n",
       "      <td>NaN</td>\n",
       "      <td>NaN</td>\n",
       "      <td>NaN</td>\n",
       "      <td>Death: \"Later while under the influence of Imm...</td>\n",
       "    </tr>\n",
       "    <tr>\n",
       "      <th>3</th>\n",
       "      <td>http://marvel.wikia.com/Robert_Bruce_Banner_(E...</td>\n",
       "      <td>Robert Bruce Banner</td>\n",
       "      <td>2089</td>\n",
       "      <td>YES</td>\n",
       "      <td>MALE</td>\n",
       "      <td>NaN</td>\n",
       "      <td>Sep-63</td>\n",
       "      <td>1963</td>\n",
       "      <td>52</td>\n",
       "      <td>Full</td>\n",
       "      <td>YES</td>\n",
       "      <td>YES</td>\n",
       "      <td>NaN</td>\n",
       "      <td>NaN</td>\n",
       "      <td>NaN</td>\n",
       "      <td>NaN</td>\n",
       "      <td>NaN</td>\n",
       "      <td>NaN</td>\n",
       "      <td>NaN</td>\n",
       "      <td>NaN</td>\n",
       "      <td>Dies in Ghosts of the Future arc. However \"he ...</td>\n",
       "    </tr>\n",
       "    <tr>\n",
       "      <th>4</th>\n",
       "      <td>http://marvel.wikia.com/Thor_Odinson_(Earth-616)</td>\n",
       "      <td>Thor Odinson</td>\n",
       "      <td>2402</td>\n",
       "      <td>YES</td>\n",
       "      <td>MALE</td>\n",
       "      <td>NaN</td>\n",
       "      <td>Sep-63</td>\n",
       "      <td>1963</td>\n",
       "      <td>52</td>\n",
       "      <td>Full</td>\n",
       "      <td>YES</td>\n",
       "      <td>YES</td>\n",
       "      <td>YES</td>\n",
       "      <td>NO</td>\n",
       "      <td>NaN</td>\n",
       "      <td>NaN</td>\n",
       "      <td>NaN</td>\n",
       "      <td>NaN</td>\n",
       "      <td>NaN</td>\n",
       "      <td>NaN</td>\n",
       "      <td>Dies in Fear Itself brought back because that'...</td>\n",
       "    </tr>\n",
       "  </tbody>\n",
       "</table>\n",
       "</div>"
      ],
      "text/plain": [
       "                                                 URL  \\\n",
       "0      http://marvel.wikia.com/Henry_Pym_(Earth-616)   \n",
       "1  http://marvel.wikia.com/Janet_van_Dyne_(Earth-...   \n",
       "2  http://marvel.wikia.com/Anthony_Stark_(Earth-616)   \n",
       "3  http://marvel.wikia.com/Robert_Bruce_Banner_(E...   \n",
       "4   http://marvel.wikia.com/Thor_Odinson_(Earth-616)   \n",
       "\n",
       "                    Name/Alias  Appearances Current?  Gender  \\\n",
       "0    Henry Jonathan \"Hank\" Pym         1269      YES    MALE   \n",
       "1               Janet van Dyne         1165      YES  FEMALE   \n",
       "2  Anthony Edward \"Tony\" Stark         3068      YES    MALE   \n",
       "3          Robert Bruce Banner         2089      YES    MALE   \n",
       "4                 Thor Odinson         2402      YES    MALE   \n",
       "\n",
       "  Probationary Introl Full/Reserve Avengers Intro  Year  Years since joining  \\\n",
       "0                 NaN                      Sep-63  1963                   52   \n",
       "1                 NaN                      Sep-63  1963                   52   \n",
       "2                 NaN                      Sep-63  1963                   52   \n",
       "3                 NaN                      Sep-63  1963                   52   \n",
       "4                 NaN                      Sep-63  1963                   52   \n",
       "\n",
       "  Honorary Death1 Return1 Death2 Return2 Death3 Return3 Death4 Return4 Death5  \\\n",
       "0     Full    YES      NO    NaN     NaN    NaN     NaN    NaN     NaN    NaN   \n",
       "1     Full    YES     YES    NaN     NaN    NaN     NaN    NaN     NaN    NaN   \n",
       "2     Full    YES     YES    NaN     NaN    NaN     NaN    NaN     NaN    NaN   \n",
       "3     Full    YES     YES    NaN     NaN    NaN     NaN    NaN     NaN    NaN   \n",
       "4     Full    YES     YES    YES      NO    NaN     NaN    NaN     NaN    NaN   \n",
       "\n",
       "  Return5                                              Notes  \n",
       "0     NaN  Merged with Ultron in Rage of Ultron Vol. 1. A...  \n",
       "1     NaN  Dies in Secret Invasion V1:I8. Actually was se...  \n",
       "2     NaN  Death: \"Later while under the influence of Imm...  \n",
       "3     NaN  Dies in Ghosts of the Future arc. However \"he ...  \n",
       "4     NaN  Dies in Fear Itself brought back because that'...  "
      ]
     },
     "execution_count": 2,
     "metadata": {},
     "output_type": "execute_result"
    }
   ],
   "source": [
    "## leitura do arquivo \n",
    "\n",
    "avengers = pd.read_csv(r'C:\\Users\\pasch\\Desktop\\CURSOS\\CLUBE_DS_ASSINATURA\\Estudos_Individuais\\PROJETOS_EBOOK\\01\\01_avengers\\Five Thirty Eight - avengers.csv', encoding='ISO-8859-1')\n",
    "\n",
    "print(f'O dataset contém {avengers.shape[1]} colunas e {avengers.shape[0]} linhas')\n",
    "avengers.head()"
   ]
  },
  {
   "cell_type": "code",
   "execution_count": 3,
   "id": "d7672aa6-9b6f-428b-8928-7bfc46e39f97",
   "metadata": {},
   "outputs": [
    {
     "data": {
      "text/plain": [
       "URL                              0\n",
       "Name/Alias                      10\n",
       "Appearances                      0\n",
       "Current?                         0\n",
       "Gender                           0\n",
       "Probationary Introl            158\n",
       "Full/Reserve Avengers Intro     14\n",
       "Year                             0\n",
       "Years since joining              0\n",
       "Honorary                         0\n",
       "Death1                           0\n",
       "Return1                        104\n",
       "Death2                         156\n",
       "Return2                        157\n",
       "Death3                         171\n",
       "Return3                        171\n",
       "Death4                         172\n",
       "Return4                        172\n",
       "Death5                         172\n",
       "Return5                        172\n",
       "Notes                           98\n",
       "dtype: int64"
      ]
     },
     "execution_count": 3,
     "metadata": {},
     "output_type": "execute_result"
    }
   ],
   "source": [
    "## checando valores ausentes\n",
    "\n",
    "avengers.isnull().sum()"
   ]
  },
  {
   "cell_type": "code",
   "execution_count": 4,
   "id": "eb3604e3-1ff6-4dbc-ae4c-a4a728eb71b4",
   "metadata": {},
   "outputs": [
    {
     "name": "stdout",
     "output_type": "stream",
     "text": [
      "<class 'pandas.core.frame.DataFrame'>\n",
      "RangeIndex: 173 entries, 0 to 172\n",
      "Data columns (total 21 columns):\n",
      " #   Column                       Non-Null Count  Dtype \n",
      "---  ------                       --------------  ----- \n",
      " 0   URL                          173 non-null    object\n",
      " 1   Name/Alias                   163 non-null    object\n",
      " 2   Appearances                  173 non-null    int64 \n",
      " 3   Current?                     173 non-null    object\n",
      " 4   Gender                       173 non-null    object\n",
      " 5   Probationary Introl          15 non-null     object\n",
      " 6   Full/Reserve Avengers Intro  159 non-null    object\n",
      " 7   Year                         173 non-null    int64 \n",
      " 8   Years since joining          173 non-null    int64 \n",
      " 9   Honorary                     173 non-null    object\n",
      " 10  Death1                       173 non-null    object\n",
      " 11  Return1                      69 non-null     object\n",
      " 12  Death2                       17 non-null     object\n",
      " 13  Return2                      16 non-null     object\n",
      " 14  Death3                       2 non-null      object\n",
      " 15  Return3                      2 non-null      object\n",
      " 16  Death4                       1 non-null      object\n",
      " 17  Return4                      1 non-null      object\n",
      " 18  Death5                       1 non-null      object\n",
      " 19  Return5                      1 non-null      object\n",
      " 20  Notes                        75 non-null     object\n",
      "dtypes: int64(3), object(18)\n",
      "memory usage: 28.5+ KB\n"
     ]
    }
   ],
   "source": [
    "avengers.info()"
   ]
  },
  {
   "cell_type": "code",
   "execution_count": 5,
   "id": "8f612127-b68b-40c1-8ae5-5b762f4a9e4c",
   "metadata": {},
   "outputs": [],
   "source": [
    "## preenchenco a coluna com 'NO'\n",
    "\n",
    "avengers['Return1'] = avengers['Return1'].fillna('NO')"
   ]
  },
  {
   "cell_type": "code",
   "execution_count": 6,
   "id": "c809b624-228b-4ff1-b394-1eafd4c4a03e",
   "metadata": {},
   "outputs": [
    {
     "data": {
      "text/plain": [
       "Index(['URL', 'Name/Alias', 'Appearances', 'Current?', 'Gender',\n",
       "       'Probationary Introl', 'Full/Reserve Avengers Intro', 'Year',\n",
       "       'Years since joining', 'Honorary', 'Death1', 'Return1', 'Death2',\n",
       "       'Return2', 'Death3', 'Return3', 'Death4', 'Return4', 'Death5',\n",
       "       'Return5', 'Notes'],\n",
       "      dtype='object')"
      ]
     },
     "execution_count": 6,
     "metadata": {},
     "output_type": "execute_result"
    }
   ],
   "source": [
    "avengers.columns"
   ]
  },
  {
   "cell_type": "code",
   "execution_count": 7,
   "id": "bf654f77-4801-480c-8631-6149f79ecb77",
   "metadata": {},
   "outputs": [
    {
     "data": {
      "text/plain": [
       "Return1\n",
       "NO     127\n",
       "YES     46\n",
       "Name: count, dtype: int64"
      ]
     },
     "execution_count": 7,
     "metadata": {},
     "output_type": "execute_result"
    }
   ],
   "source": [
    "avengers['Return1'].value_counts()"
   ]
  },
  {
   "cell_type": "code",
   "execution_count": 8,
   "id": "cdc85b3e-8887-41da-b475-9a286c29c0c3",
   "metadata": {},
   "outputs": [
    {
     "data": {
      "text/html": [
       "<div>\n",
       "<style scoped>\n",
       "    .dataframe tbody tr th:only-of-type {\n",
       "        vertical-align: middle;\n",
       "    }\n",
       "\n",
       "    .dataframe tbody tr th {\n",
       "        vertical-align: top;\n",
       "    }\n",
       "\n",
       "    .dataframe thead th {\n",
       "        text-align: right;\n",
       "    }\n",
       "</style>\n",
       "<table border=\"1\" class=\"dataframe\">\n",
       "  <thead>\n",
       "    <tr style=\"text-align: right;\">\n",
       "      <th></th>\n",
       "      <th>URL</th>\n",
       "      <th>Name/Alias</th>\n",
       "      <th>Appearances</th>\n",
       "      <th>Current?</th>\n",
       "      <th>Gender</th>\n",
       "      <th>Probationary Introl</th>\n",
       "      <th>Full/Reserve Avengers Intro</th>\n",
       "      <th>Year</th>\n",
       "      <th>Years since joining</th>\n",
       "      <th>Honorary</th>\n",
       "      <th>Death1</th>\n",
       "      <th>Return1</th>\n",
       "      <th>Death2</th>\n",
       "      <th>Return2</th>\n",
       "      <th>Death3</th>\n",
       "      <th>Return3</th>\n",
       "      <th>Death4</th>\n",
       "      <th>Return4</th>\n",
       "      <th>Death5</th>\n",
       "      <th>Return5</th>\n",
       "      <th>Notes</th>\n",
       "    </tr>\n",
       "  </thead>\n",
       "  <tbody>\n",
       "    <tr>\n",
       "      <th>count</th>\n",
       "      <td>173</td>\n",
       "      <td>163</td>\n",
       "      <td>173.000000</td>\n",
       "      <td>173</td>\n",
       "      <td>173</td>\n",
       "      <td>15</td>\n",
       "      <td>159</td>\n",
       "      <td>173.000000</td>\n",
       "      <td>173.000000</td>\n",
       "      <td>173</td>\n",
       "      <td>173</td>\n",
       "      <td>173</td>\n",
       "      <td>17</td>\n",
       "      <td>16</td>\n",
       "      <td>2</td>\n",
       "      <td>2</td>\n",
       "      <td>1</td>\n",
       "      <td>1</td>\n",
       "      <td>1</td>\n",
       "      <td>1</td>\n",
       "      <td>75</td>\n",
       "    </tr>\n",
       "    <tr>\n",
       "      <th>unique</th>\n",
       "      <td>173</td>\n",
       "      <td>162</td>\n",
       "      <td>NaN</td>\n",
       "      <td>2</td>\n",
       "      <td>2</td>\n",
       "      <td>12</td>\n",
       "      <td>93</td>\n",
       "      <td>NaN</td>\n",
       "      <td>NaN</td>\n",
       "      <td>4</td>\n",
       "      <td>2</td>\n",
       "      <td>2</td>\n",
       "      <td>2</td>\n",
       "      <td>2</td>\n",
       "      <td>1</td>\n",
       "      <td>2</td>\n",
       "      <td>1</td>\n",
       "      <td>1</td>\n",
       "      <td>1</td>\n",
       "      <td>1</td>\n",
       "      <td>71</td>\n",
       "    </tr>\n",
       "    <tr>\n",
       "      <th>top</th>\n",
       "      <td>http://marvel.wikia.com/Henry_Pym_(Earth-616)</td>\n",
       "      <td>Vance Astrovik</td>\n",
       "      <td>NaN</td>\n",
       "      <td>NO</td>\n",
       "      <td>MALE</td>\n",
       "      <td>Jul-75</td>\n",
       "      <td>Sep-63</td>\n",
       "      <td>NaN</td>\n",
       "      <td>NaN</td>\n",
       "      <td>Full</td>\n",
       "      <td>NO</td>\n",
       "      <td>NO</td>\n",
       "      <td>YES</td>\n",
       "      <td>NO</td>\n",
       "      <td>YES</td>\n",
       "      <td>NO</td>\n",
       "      <td>YES</td>\n",
       "      <td>YES</td>\n",
       "      <td>YES</td>\n",
       "      <td>YES</td>\n",
       "      <td>Died in New_Avengers_Vol_3_32</td>\n",
       "    </tr>\n",
       "    <tr>\n",
       "      <th>freq</th>\n",
       "      <td>1</td>\n",
       "      <td>2</td>\n",
       "      <td>NaN</td>\n",
       "      <td>91</td>\n",
       "      <td>115</td>\n",
       "      <td>2</td>\n",
       "      <td>6</td>\n",
       "      <td>NaN</td>\n",
       "      <td>NaN</td>\n",
       "      <td>138</td>\n",
       "      <td>104</td>\n",
       "      <td>127</td>\n",
       "      <td>16</td>\n",
       "      <td>8</td>\n",
       "      <td>2</td>\n",
       "      <td>1</td>\n",
       "      <td>1</td>\n",
       "      <td>1</td>\n",
       "      <td>1</td>\n",
       "      <td>1</td>\n",
       "      <td>4</td>\n",
       "    </tr>\n",
       "    <tr>\n",
       "      <th>mean</th>\n",
       "      <td>NaN</td>\n",
       "      <td>NaN</td>\n",
       "      <td>414.052023</td>\n",
       "      <td>NaN</td>\n",
       "      <td>NaN</td>\n",
       "      <td>NaN</td>\n",
       "      <td>NaN</td>\n",
       "      <td>1988.445087</td>\n",
       "      <td>26.554913</td>\n",
       "      <td>NaN</td>\n",
       "      <td>NaN</td>\n",
       "      <td>NaN</td>\n",
       "      <td>NaN</td>\n",
       "      <td>NaN</td>\n",
       "      <td>NaN</td>\n",
       "      <td>NaN</td>\n",
       "      <td>NaN</td>\n",
       "      <td>NaN</td>\n",
       "      <td>NaN</td>\n",
       "      <td>NaN</td>\n",
       "      <td>NaN</td>\n",
       "    </tr>\n",
       "    <tr>\n",
       "      <th>std</th>\n",
       "      <td>NaN</td>\n",
       "      <td>NaN</td>\n",
       "      <td>677.991950</td>\n",
       "      <td>NaN</td>\n",
       "      <td>NaN</td>\n",
       "      <td>NaN</td>\n",
       "      <td>NaN</td>\n",
       "      <td>30.374669</td>\n",
       "      <td>30.374669</td>\n",
       "      <td>NaN</td>\n",
       "      <td>NaN</td>\n",
       "      <td>NaN</td>\n",
       "      <td>NaN</td>\n",
       "      <td>NaN</td>\n",
       "      <td>NaN</td>\n",
       "      <td>NaN</td>\n",
       "      <td>NaN</td>\n",
       "      <td>NaN</td>\n",
       "      <td>NaN</td>\n",
       "      <td>NaN</td>\n",
       "      <td>NaN</td>\n",
       "    </tr>\n",
       "    <tr>\n",
       "      <th>min</th>\n",
       "      <td>NaN</td>\n",
       "      <td>NaN</td>\n",
       "      <td>2.000000</td>\n",
       "      <td>NaN</td>\n",
       "      <td>NaN</td>\n",
       "      <td>NaN</td>\n",
       "      <td>NaN</td>\n",
       "      <td>1900.000000</td>\n",
       "      <td>0.000000</td>\n",
       "      <td>NaN</td>\n",
       "      <td>NaN</td>\n",
       "      <td>NaN</td>\n",
       "      <td>NaN</td>\n",
       "      <td>NaN</td>\n",
       "      <td>NaN</td>\n",
       "      <td>NaN</td>\n",
       "      <td>NaN</td>\n",
       "      <td>NaN</td>\n",
       "      <td>NaN</td>\n",
       "      <td>NaN</td>\n",
       "      <td>NaN</td>\n",
       "    </tr>\n",
       "    <tr>\n",
       "      <th>25%</th>\n",
       "      <td>NaN</td>\n",
       "      <td>NaN</td>\n",
       "      <td>58.000000</td>\n",
       "      <td>NaN</td>\n",
       "      <td>NaN</td>\n",
       "      <td>NaN</td>\n",
       "      <td>NaN</td>\n",
       "      <td>1979.000000</td>\n",
       "      <td>5.000000</td>\n",
       "      <td>NaN</td>\n",
       "      <td>NaN</td>\n",
       "      <td>NaN</td>\n",
       "      <td>NaN</td>\n",
       "      <td>NaN</td>\n",
       "      <td>NaN</td>\n",
       "      <td>NaN</td>\n",
       "      <td>NaN</td>\n",
       "      <td>NaN</td>\n",
       "      <td>NaN</td>\n",
       "      <td>NaN</td>\n",
       "      <td>NaN</td>\n",
       "    </tr>\n",
       "    <tr>\n",
       "      <th>50%</th>\n",
       "      <td>NaN</td>\n",
       "      <td>NaN</td>\n",
       "      <td>132.000000</td>\n",
       "      <td>NaN</td>\n",
       "      <td>NaN</td>\n",
       "      <td>NaN</td>\n",
       "      <td>NaN</td>\n",
       "      <td>1996.000000</td>\n",
       "      <td>19.000000</td>\n",
       "      <td>NaN</td>\n",
       "      <td>NaN</td>\n",
       "      <td>NaN</td>\n",
       "      <td>NaN</td>\n",
       "      <td>NaN</td>\n",
       "      <td>NaN</td>\n",
       "      <td>NaN</td>\n",
       "      <td>NaN</td>\n",
       "      <td>NaN</td>\n",
       "      <td>NaN</td>\n",
       "      <td>NaN</td>\n",
       "      <td>NaN</td>\n",
       "    </tr>\n",
       "    <tr>\n",
       "      <th>75%</th>\n",
       "      <td>NaN</td>\n",
       "      <td>NaN</td>\n",
       "      <td>491.000000</td>\n",
       "      <td>NaN</td>\n",
       "      <td>NaN</td>\n",
       "      <td>NaN</td>\n",
       "      <td>NaN</td>\n",
       "      <td>2010.000000</td>\n",
       "      <td>36.000000</td>\n",
       "      <td>NaN</td>\n",
       "      <td>NaN</td>\n",
       "      <td>NaN</td>\n",
       "      <td>NaN</td>\n",
       "      <td>NaN</td>\n",
       "      <td>NaN</td>\n",
       "      <td>NaN</td>\n",
       "      <td>NaN</td>\n",
       "      <td>NaN</td>\n",
       "      <td>NaN</td>\n",
       "      <td>NaN</td>\n",
       "      <td>NaN</td>\n",
       "    </tr>\n",
       "    <tr>\n",
       "      <th>max</th>\n",
       "      <td>NaN</td>\n",
       "      <td>NaN</td>\n",
       "      <td>4333.000000</td>\n",
       "      <td>NaN</td>\n",
       "      <td>NaN</td>\n",
       "      <td>NaN</td>\n",
       "      <td>NaN</td>\n",
       "      <td>2015.000000</td>\n",
       "      <td>115.000000</td>\n",
       "      <td>NaN</td>\n",
       "      <td>NaN</td>\n",
       "      <td>NaN</td>\n",
       "      <td>NaN</td>\n",
       "      <td>NaN</td>\n",
       "      <td>NaN</td>\n",
       "      <td>NaN</td>\n",
       "      <td>NaN</td>\n",
       "      <td>NaN</td>\n",
       "      <td>NaN</td>\n",
       "      <td>NaN</td>\n",
       "      <td>NaN</td>\n",
       "    </tr>\n",
       "  </tbody>\n",
       "</table>\n",
       "</div>"
      ],
      "text/plain": [
       "                                                  URL      Name/Alias  \\\n",
       "count                                             173             163   \n",
       "unique                                            173             162   \n",
       "top     http://marvel.wikia.com/Henry_Pym_(Earth-616)  Vance Astrovik   \n",
       "freq                                                1               2   \n",
       "mean                                              NaN             NaN   \n",
       "std                                               NaN             NaN   \n",
       "min                                               NaN             NaN   \n",
       "25%                                               NaN             NaN   \n",
       "50%                                               NaN             NaN   \n",
       "75%                                               NaN             NaN   \n",
       "max                                               NaN             NaN   \n",
       "\n",
       "        Appearances Current? Gender Probationary Introl  \\\n",
       "count    173.000000      173    173                  15   \n",
       "unique          NaN        2      2                  12   \n",
       "top             NaN       NO   MALE              Jul-75   \n",
       "freq            NaN       91    115                   2   \n",
       "mean     414.052023      NaN    NaN                 NaN   \n",
       "std      677.991950      NaN    NaN                 NaN   \n",
       "min        2.000000      NaN    NaN                 NaN   \n",
       "25%       58.000000      NaN    NaN                 NaN   \n",
       "50%      132.000000      NaN    NaN                 NaN   \n",
       "75%      491.000000      NaN    NaN                 NaN   \n",
       "max     4333.000000      NaN    NaN                 NaN   \n",
       "\n",
       "       Full/Reserve Avengers Intro         Year  Years since joining Honorary  \\\n",
       "count                          159   173.000000           173.000000      173   \n",
       "unique                          93          NaN                  NaN        4   \n",
       "top                         Sep-63          NaN                  NaN     Full   \n",
       "freq                             6          NaN                  NaN      138   \n",
       "mean                           NaN  1988.445087            26.554913      NaN   \n",
       "std                            NaN    30.374669            30.374669      NaN   \n",
       "min                            NaN  1900.000000             0.000000      NaN   \n",
       "25%                            NaN  1979.000000             5.000000      NaN   \n",
       "50%                            NaN  1996.000000            19.000000      NaN   \n",
       "75%                            NaN  2010.000000            36.000000      NaN   \n",
       "max                            NaN  2015.000000           115.000000      NaN   \n",
       "\n",
       "       Death1 Return1 Death2 Return2 Death3 Return3 Death4 Return4 Death5  \\\n",
       "count     173     173     17      16      2       2      1       1      1   \n",
       "unique      2       2      2       2      1       2      1       1      1   \n",
       "top        NO      NO    YES      NO    YES      NO    YES     YES    YES   \n",
       "freq      104     127     16       8      2       1      1       1      1   \n",
       "mean      NaN     NaN    NaN     NaN    NaN     NaN    NaN     NaN    NaN   \n",
       "std       NaN     NaN    NaN     NaN    NaN     NaN    NaN     NaN    NaN   \n",
       "min       NaN     NaN    NaN     NaN    NaN     NaN    NaN     NaN    NaN   \n",
       "25%       NaN     NaN    NaN     NaN    NaN     NaN    NaN     NaN    NaN   \n",
       "50%       NaN     NaN    NaN     NaN    NaN     NaN    NaN     NaN    NaN   \n",
       "75%       NaN     NaN    NaN     NaN    NaN     NaN    NaN     NaN    NaN   \n",
       "max       NaN     NaN    NaN     NaN    NaN     NaN    NaN     NaN    NaN   \n",
       "\n",
       "       Return5                          Notes  \n",
       "count        1                             75  \n",
       "unique       1                             71  \n",
       "top        YES  Died in New_Avengers_Vol_3_32  \n",
       "freq         1                              4  \n",
       "mean       NaN                            NaN  \n",
       "std        NaN                            NaN  \n",
       "min        NaN                            NaN  \n",
       "25%        NaN                            NaN  \n",
       "50%        NaN                            NaN  \n",
       "75%        NaN                            NaN  \n",
       "max        NaN                            NaN  "
      ]
     },
     "execution_count": 8,
     "metadata": {},
     "output_type": "execute_result"
    }
   ],
   "source": [
    "avengers.describe(include='all')"
   ]
  },
  {
   "cell_type": "markdown",
   "id": "2146ee8d-0f37-4d24-8270-39574159f054",
   "metadata": {},
   "source": [
    "### Alterando Coluna - Booleano"
   ]
  },
  {
   "cell_type": "code",
   "execution_count": 9,
   "id": "f2338b6f-b8e6-4032-af24-23c402096162",
   "metadata": {},
   "outputs": [],
   "source": [
    "avengers['Death1'] = avengers['Death1'].map({'YES': 1, 'NO': 0})"
   ]
  },
  {
   "cell_type": "code",
   "execution_count": 10,
   "id": "f19bed85-0e0b-4333-bb5c-54e3df1cd97b",
   "metadata": {},
   "outputs": [],
   "source": [
    "avengers['Return1'] = avengers['Return1'].map({'YES': 1, 'NO': 0})"
   ]
  },
  {
   "cell_type": "code",
   "execution_count": 11,
   "id": "217146e5-fba0-42c8-995b-8642fe813a6a",
   "metadata": {},
   "outputs": [
    {
     "data": {
      "text/html": [
       "<div>\n",
       "<style scoped>\n",
       "    .dataframe tbody tr th:only-of-type {\n",
       "        vertical-align: middle;\n",
       "    }\n",
       "\n",
       "    .dataframe tbody tr th {\n",
       "        vertical-align: top;\n",
       "    }\n",
       "\n",
       "    .dataframe thead th {\n",
       "        text-align: right;\n",
       "    }\n",
       "</style>\n",
       "<table border=\"1\" class=\"dataframe\">\n",
       "  <thead>\n",
       "    <tr style=\"text-align: right;\">\n",
       "      <th></th>\n",
       "      <th>URL</th>\n",
       "      <th>Name/Alias</th>\n",
       "      <th>Appearances</th>\n",
       "      <th>Current?</th>\n",
       "      <th>Gender</th>\n",
       "      <th>Probationary Introl</th>\n",
       "      <th>Full/Reserve Avengers Intro</th>\n",
       "      <th>Year</th>\n",
       "      <th>Years since joining</th>\n",
       "      <th>Honorary</th>\n",
       "      <th>Death1</th>\n",
       "      <th>Return1</th>\n",
       "      <th>Death2</th>\n",
       "      <th>Return2</th>\n",
       "      <th>Death3</th>\n",
       "      <th>Return3</th>\n",
       "      <th>Death4</th>\n",
       "      <th>Return4</th>\n",
       "      <th>Death5</th>\n",
       "      <th>Return5</th>\n",
       "      <th>Notes</th>\n",
       "    </tr>\n",
       "  </thead>\n",
       "  <tbody>\n",
       "    <tr>\n",
       "      <th>0</th>\n",
       "      <td>http://marvel.wikia.com/Henry_Pym_(Earth-616)</td>\n",
       "      <td>Henry Jonathan \"Hank\" Pym</td>\n",
       "      <td>1269</td>\n",
       "      <td>YES</td>\n",
       "      <td>MALE</td>\n",
       "      <td>NaN</td>\n",
       "      <td>Sep-63</td>\n",
       "      <td>1963</td>\n",
       "      <td>52</td>\n",
       "      <td>Full</td>\n",
       "      <td>1</td>\n",
       "      <td>0</td>\n",
       "      <td>NaN</td>\n",
       "      <td>NaN</td>\n",
       "      <td>NaN</td>\n",
       "      <td>NaN</td>\n",
       "      <td>NaN</td>\n",
       "      <td>NaN</td>\n",
       "      <td>NaN</td>\n",
       "      <td>NaN</td>\n",
       "      <td>Merged with Ultron in Rage of Ultron Vol. 1. A...</td>\n",
       "    </tr>\n",
       "    <tr>\n",
       "      <th>1</th>\n",
       "      <td>http://marvel.wikia.com/Janet_van_Dyne_(Earth-...</td>\n",
       "      <td>Janet van Dyne</td>\n",
       "      <td>1165</td>\n",
       "      <td>YES</td>\n",
       "      <td>FEMALE</td>\n",
       "      <td>NaN</td>\n",
       "      <td>Sep-63</td>\n",
       "      <td>1963</td>\n",
       "      <td>52</td>\n",
       "      <td>Full</td>\n",
       "      <td>1</td>\n",
       "      <td>1</td>\n",
       "      <td>NaN</td>\n",
       "      <td>NaN</td>\n",
       "      <td>NaN</td>\n",
       "      <td>NaN</td>\n",
       "      <td>NaN</td>\n",
       "      <td>NaN</td>\n",
       "      <td>NaN</td>\n",
       "      <td>NaN</td>\n",
       "      <td>Dies in Secret Invasion V1:I8. Actually was se...</td>\n",
       "    </tr>\n",
       "    <tr>\n",
       "      <th>2</th>\n",
       "      <td>http://marvel.wikia.com/Anthony_Stark_(Earth-616)</td>\n",
       "      <td>Anthony Edward \"Tony\" Stark</td>\n",
       "      <td>3068</td>\n",
       "      <td>YES</td>\n",
       "      <td>MALE</td>\n",
       "      <td>NaN</td>\n",
       "      <td>Sep-63</td>\n",
       "      <td>1963</td>\n",
       "      <td>52</td>\n",
       "      <td>Full</td>\n",
       "      <td>1</td>\n",
       "      <td>1</td>\n",
       "      <td>NaN</td>\n",
       "      <td>NaN</td>\n",
       "      <td>NaN</td>\n",
       "      <td>NaN</td>\n",
       "      <td>NaN</td>\n",
       "      <td>NaN</td>\n",
       "      <td>NaN</td>\n",
       "      <td>NaN</td>\n",
       "      <td>Death: \"Later while under the influence of Imm...</td>\n",
       "    </tr>\n",
       "    <tr>\n",
       "      <th>3</th>\n",
       "      <td>http://marvel.wikia.com/Robert_Bruce_Banner_(E...</td>\n",
       "      <td>Robert Bruce Banner</td>\n",
       "      <td>2089</td>\n",
       "      <td>YES</td>\n",
       "      <td>MALE</td>\n",
       "      <td>NaN</td>\n",
       "      <td>Sep-63</td>\n",
       "      <td>1963</td>\n",
       "      <td>52</td>\n",
       "      <td>Full</td>\n",
       "      <td>1</td>\n",
       "      <td>1</td>\n",
       "      <td>NaN</td>\n",
       "      <td>NaN</td>\n",
       "      <td>NaN</td>\n",
       "      <td>NaN</td>\n",
       "      <td>NaN</td>\n",
       "      <td>NaN</td>\n",
       "      <td>NaN</td>\n",
       "      <td>NaN</td>\n",
       "      <td>Dies in Ghosts of the Future arc. However \"he ...</td>\n",
       "    </tr>\n",
       "    <tr>\n",
       "      <th>4</th>\n",
       "      <td>http://marvel.wikia.com/Thor_Odinson_(Earth-616)</td>\n",
       "      <td>Thor Odinson</td>\n",
       "      <td>2402</td>\n",
       "      <td>YES</td>\n",
       "      <td>MALE</td>\n",
       "      <td>NaN</td>\n",
       "      <td>Sep-63</td>\n",
       "      <td>1963</td>\n",
       "      <td>52</td>\n",
       "      <td>Full</td>\n",
       "      <td>1</td>\n",
       "      <td>1</td>\n",
       "      <td>YES</td>\n",
       "      <td>NO</td>\n",
       "      <td>NaN</td>\n",
       "      <td>NaN</td>\n",
       "      <td>NaN</td>\n",
       "      <td>NaN</td>\n",
       "      <td>NaN</td>\n",
       "      <td>NaN</td>\n",
       "      <td>Dies in Fear Itself brought back because that'...</td>\n",
       "    </tr>\n",
       "  </tbody>\n",
       "</table>\n",
       "</div>"
      ],
      "text/plain": [
       "                                                 URL  \\\n",
       "0      http://marvel.wikia.com/Henry_Pym_(Earth-616)   \n",
       "1  http://marvel.wikia.com/Janet_van_Dyne_(Earth-...   \n",
       "2  http://marvel.wikia.com/Anthony_Stark_(Earth-616)   \n",
       "3  http://marvel.wikia.com/Robert_Bruce_Banner_(E...   \n",
       "4   http://marvel.wikia.com/Thor_Odinson_(Earth-616)   \n",
       "\n",
       "                    Name/Alias  Appearances Current?  Gender  \\\n",
       "0    Henry Jonathan \"Hank\" Pym         1269      YES    MALE   \n",
       "1               Janet van Dyne         1165      YES  FEMALE   \n",
       "2  Anthony Edward \"Tony\" Stark         3068      YES    MALE   \n",
       "3          Robert Bruce Banner         2089      YES    MALE   \n",
       "4                 Thor Odinson         2402      YES    MALE   \n",
       "\n",
       "  Probationary Introl Full/Reserve Avengers Intro  Year  Years since joining  \\\n",
       "0                 NaN                      Sep-63  1963                   52   \n",
       "1                 NaN                      Sep-63  1963                   52   \n",
       "2                 NaN                      Sep-63  1963                   52   \n",
       "3                 NaN                      Sep-63  1963                   52   \n",
       "4                 NaN                      Sep-63  1963                   52   \n",
       "\n",
       "  Honorary  Death1  Return1 Death2 Return2 Death3 Return3 Death4 Return4  \\\n",
       "0     Full       1        0    NaN     NaN    NaN     NaN    NaN     NaN   \n",
       "1     Full       1        1    NaN     NaN    NaN     NaN    NaN     NaN   \n",
       "2     Full       1        1    NaN     NaN    NaN     NaN    NaN     NaN   \n",
       "3     Full       1        1    NaN     NaN    NaN     NaN    NaN     NaN   \n",
       "4     Full       1        1    YES      NO    NaN     NaN    NaN     NaN   \n",
       "\n",
       "  Death5 Return5                                              Notes  \n",
       "0    NaN     NaN  Merged with Ultron in Rage of Ultron Vol. 1. A...  \n",
       "1    NaN     NaN  Dies in Secret Invasion V1:I8. Actually was se...  \n",
       "2    NaN     NaN  Death: \"Later while under the influence of Imm...  \n",
       "3    NaN     NaN  Dies in Ghosts of the Future arc. However \"he ...  \n",
       "4    NaN     NaN  Dies in Fear Itself brought back because that'...  "
      ]
     },
     "execution_count": 11,
     "metadata": {},
     "output_type": "execute_result"
    }
   ],
   "source": [
    "avengers.head()"
   ]
  },
  {
   "cell_type": "markdown",
   "id": "f43d38eb-5b3b-4523-8f34-c945490e693a",
   "metadata": {},
   "source": [
    "### Analisando os Dados"
   ]
  },
  {
   "cell_type": "code",
   "execution_count": 12,
   "id": "45d7db08-a194-412f-b07c-fed9bf0fc946",
   "metadata": {},
   "outputs": [
    {
     "data": {
      "text/plain": [
       "162"
      ]
     },
     "execution_count": 12,
     "metadata": {},
     "output_type": "execute_result"
    }
   ],
   "source": [
    "## quantos heróis únicos temos?\n",
    "\n",
    "avengers['Name/Alias'].nunique()"
   ]
  },
  {
   "cell_type": "code",
   "execution_count": 13,
   "id": "4595ffca-caf2-4e43-bcb0-2b514a3a21e8",
   "metadata": {},
   "outputs": [],
   "source": [
    "## checando visualmente a distribuição\n",
    "\n",
    "import matplotlib.pyplot as plt\n",
    "import seaborn as sns"
   ]
  },
  {
   "cell_type": "code",
   "execution_count": 14,
   "id": "5190a880-79d2-4063-9583-ac2f141eeaa0",
   "metadata": {},
   "outputs": [
    {
     "data": {
      "text/plain": [
       "Gender\n",
       "MALE      115\n",
       "FEMALE     58\n",
       "Name: count, dtype: int64"
      ]
     },
     "execution_count": 14,
     "metadata": {},
     "output_type": "execute_result"
    }
   ],
   "source": [
    "avengers['Gender'].value_counts()"
   ]
  },
  {
   "cell_type": "code",
   "execution_count": 15,
   "id": "c6f24bfe-8d46-47e9-8184-2688af26c1b5",
   "metadata": {},
   "outputs": [
    {
     "data": {
      "text/plain": [
       "Gender\n",
       "MALE      0.66474\n",
       "FEMALE    0.33526\n",
       "Name: proportion, dtype: float64"
      ]
     },
     "execution_count": 15,
     "metadata": {},
     "output_type": "execute_result"
    }
   ],
   "source": [
    "avengers['Gender'].value_counts(normalize='true')"
   ]
  },
  {
   "cell_type": "code",
   "execution_count": 16,
   "id": "beecc9dd-95dc-4534-858a-e52fc486265d",
   "metadata": {},
   "outputs": [
    {
     "data": {
      "image/png": "[encoded data removed]",
      "text/plain": [
       "<Figure size 640x480 with 1 Axes>"
      ]
     },
     "metadata": {},
     "output_type": "display_data"
    }
   ],
   "source": [
    "sns.histplot(data = avengers, x='Gender', hue='Gender')\n",
    "plt.title('Distribuição por Gênero')\n",
    "plt.show()\n",
    "plt.close()"
   ]
  },
  {
   "cell_type": "markdown",
   "id": "2fffa225-3516-4ab8-a722-17c6218f1877",
   "metadata": {},
   "source": [
    "Temos claramente aqui que o gênero feminino representa basicamente menos da metade do masculino, essa é uma métrica interessante de se observar."
   ]
  },
  {
   "cell_type": "code",
   "execution_count": 17,
   "id": "ddac9611-4131-4f62-be64-de8b16b4e5e7",
   "metadata": {},
   "outputs": [
    {
     "data": {
      "image/png": "[encoded data removed]",
      "text/plain": [
       "<Figure size 640x480 with 1 Axes>"
      ]
     },
     "metadata": {},
     "output_type": "display_data"
    }
   ],
   "source": [
    "## olhando mais atentamente as aparições\n",
    "\n",
    "sns.boxplot(data = avengers, x = 'Appearances', y = 'Gender')\n",
    "plt.show()\n",
    "plt.close()"
   ]
  },
  {
   "cell_type": "markdown",
   "id": "7bea95da-3dff-4b93-9bbd-9fe5159a18df",
   "metadata": {},
   "source": [
    "### Heróis - Tempo"
   ]
  },
  {
   "cell_type": "code",
   "execution_count": 22,
   "id": "512a8a8d-20e1-468f-9769-354d6ccefbb7",
   "metadata": {},
   "outputs": [
    {
     "data": {
      "text/plain": [
       "Text(0.5, 1.0, 'Observaçães ao Longo dos Anos')"
      ]
     },
     "execution_count": 22,
     "metadata": {},
     "output_type": "execute_result"
    },
    {
     "data": {
      "image/png": "[encoded data removed]",
      "text/plain": [
       "<Figure size 640x480 with 1 Axes>"
      ]
     },
     "metadata": {},
     "output_type": "display_data"
    }
   ],
   "source": [
    "sns.lineplot(data=avengers, x='Year', y='Appearances')\n",
    "plt.title('Observaçães ao Longo dos Anos')"
   ]
  },
  {
   "cell_type": "markdown",
   "id": "2e5482ff-9e84-4a65-b809-c374ca546966",
   "metadata": {},
   "source": [
    "Interessante observar que temos dados anteriores a criação da MARVEL em 1939 - seriam esses dados incorretos?"
   ]
  },
  {
   "cell_type": "markdown",
   "id": "9e70d021-d6c2-4eb1-a926-6fa82b4e2162",
   "metadata": {},
   "source": [
    "### Filtrando os dados - Pós 1939"
   ]
  },
  {
   "cell_type": "code",
   "execution_count": 26,
   "id": "b82ddbcf-fd09-4a1d-be3f-d44a5322fd0c",
   "metadata": {},
   "outputs": [
    {
     "data": {
      "text/plain": [
       "14"
      ]
     },
     "execution_count": 26,
     "metadata": {},
     "output_type": "execute_result"
    }
   ],
   "source": [
    "## checando quantos heróis estão com data de antes de 1939\n",
    "\n",
    "avengers_antes = avengers[avengers['Year']<=1939]\n",
    "\n",
    "len(avengers_antes)"
   ]
  },
  {
   "cell_type": "code",
   "execution_count": 27,
   "id": "2bc3d0d2-ff0c-422a-9f96-b9d4ba032131",
   "metadata": {},
   "outputs": [],
   "source": [
    "avengers_filtro = avengers[avengers['Year']>=1939]"
   ]
  },
  {
   "cell_type": "code",
   "execution_count": 28,
   "id": "6bac395b-58a8-4e84-b08e-277ae3fb43b2",
   "metadata": {},
   "outputs": [
    {
     "data": {
      "text/plain": [
       "Text(0.5, 1.0, 'Observaçães ao Longo dos Anos')"
      ]
     },
     "execution_count": 28,
     "metadata": {},
     "output_type": "execute_result"
    },
    {
     "data": {
      "image/png": "[encoded data removed]",
      "text/plain": [
       "<Figure size 640x480 with 1 Axes>"
      ]
     },
     "metadata": {},
     "output_type": "display_data"
    }
   ],
   "source": [
    "sns.lineplot(data=avengers_filtro, x='Year', y='Appearances')\n",
    "plt.title('Observaçães ao Longo dos Anos')"
   ]
  },
  {
   "cell_type": "markdown",
   "id": "023880a2-7a78-4008-9b97-cada9e0754b4",
   "metadata": {},
   "source": [
    "### Distribruição do Gênero ao Longo dos Anos"
   ]
  },
  {
   "cell_type": "code",
   "execution_count": 37,
   "id": "28699b92-351a-44a2-8c8e-f9d5ac706490",
   "metadata": {},
   "outputs": [],
   "source": [
    "## Crriando a coluna DÉCADA\n",
    "\n",
    "avengers['Decade'] = (avengers['Year'] // 10) * 10"
   ]
  },
  {
   "cell_type": "code",
   "execution_count": 38,
   "id": "3d7ab6d0-344b-447f-9075-90afea7bd36e",
   "metadata": {},
   "outputs": [
    {
     "data": {
      "image/png": "[encoded data removed]",
      "text/plain": [
       "<Figure size 800x600 with 1 Axes>"
      ]
     },
     "metadata": {},
     "output_type": "display_data"
    }
   ],
   "source": [
    "# Agrupar e pivotar os dados para criar o formato empilhado\n",
    "grouped = avengers.groupby(['Decade', 'Gender']).size().unstack(fill_value=0)\n",
    "\n",
    "# Plotando o gráfico empilhado\n",
    "grouped.plot(kind='bar', stacked=True, figsize=(8, 6), color=['#1f77b4', '#ff7f0e'])\n",
    "plt.title('Distribuição de Gêneros por Ano')\n",
    "plt.ylabel('Contagem')\n",
    "plt.xlabel('Década')\n",
    "plt.legend(title='Gênero')\n",
    "plt.tight_layout()\n",
    "plt.show()"
   ]
  },
  {
   "cell_type": "markdown",
   "id": "b3357a12-2591-44d0-a2f8-a9b8c4b775e0",
   "metadata": {},
   "source": [
    "Como podemos ver, na década de 90 tivemos uma diminuição na quantidade de personagens, provavelmente por alguma questão comercial, enquanto que nos últimos anos, impulsionado pelos filmes, houve uma explosão dos personagens, mas com uma desproporção pendendo para os personagens masculinos"
   ]
  },
  {
   "cell_type": "markdown",
   "id": "02c33048-7d15-448d-8b7a-56b3ab3ae15e",
   "metadata": {},
   "source": [
    "### Checando Personagens Honorários - Por Gênero"
   ]
  },
  {
   "cell_type": "code",
   "execution_count": 42,
   "id": "8d88fa8f-8534-4eee-a0b3-b8d6e2598cdd",
   "metadata": {},
   "outputs": [
    {
     "data": {
      "text/html": [
       "<div>\n",
       "<style scoped>\n",
       "    .dataframe tbody tr th:only-of-type {\n",
       "        vertical-align: middle;\n",
       "    }\n",
       "\n",
       "    .dataframe tbody tr th {\n",
       "        vertical-align: top;\n",
       "    }\n",
       "\n",
       "    .dataframe thead th {\n",
       "        text-align: right;\n",
       "    }\n",
       "</style>\n",
       "<table border=\"1\" class=\"dataframe\">\n",
       "  <thead>\n",
       "    <tr style=\"text-align: right;\">\n",
       "      <th>Honorary</th>\n",
       "      <th>Academy</th>\n",
       "      <th>Full</th>\n",
       "      <th>Honorary</th>\n",
       "      <th>Probationary</th>\n",
       "    </tr>\n",
       "    <tr>\n",
       "      <th>Gender</th>\n",
       "      <th></th>\n",
       "      <th></th>\n",
       "      <th></th>\n",
       "      <th></th>\n",
       "    </tr>\n",
       "  </thead>\n",
       "  <tbody>\n",
       "    <tr>\n",
       "      <th>FEMALE</th>\n",
       "      <td>9</td>\n",
       "      <td>43</td>\n",
       "      <td>6</td>\n",
       "      <td>0</td>\n",
       "    </tr>\n",
       "    <tr>\n",
       "      <th>MALE</th>\n",
       "      <td>8</td>\n",
       "      <td>95</td>\n",
       "      <td>10</td>\n",
       "      <td>2</td>\n",
       "    </tr>\n",
       "  </tbody>\n",
       "</table>\n",
       "</div>"
      ],
      "text/plain": [
       "Honorary  Academy  Full  Honorary  Probationary\n",
       "Gender                                         \n",
       "FEMALE          9    43         6             0\n",
       "MALE            8    95        10             2"
      ]
     },
     "execution_count": 42,
     "metadata": {},
     "output_type": "execute_result"
    }
   ],
   "source": [
    "pd.crosstab(avengers['Gender'], avengers['Honorary'])"
   ]
  },
  {
   "cell_type": "markdown",
   "id": "e6561d7e-1263-4f65-aa4c-60f3bb75e9e2",
   "metadata": {},
   "source": [
    "### Número de Mortes - Gênero"
   ]
  },
  {
   "cell_type": "code",
   "execution_count": 51,
   "id": "f5236c11-bc03-4dda-b6f1-d5c8b049ce24",
   "metadata": {},
   "outputs": [
    {
     "data": {
      "text/plain": [
       "Gender  Death1\n",
       "FEMALE  0         37\n",
       "        1         21\n",
       "MALE    0         67\n",
       "        1         48\n",
       "Name: count, dtype: int64"
      ]
     },
     "execution_count": 51,
     "metadata": {},
     "output_type": "execute_result"
    }
   ],
   "source": [
    "avengers.groupby('Gender')['Death1'].value_counts()"
   ]
  },
  {
   "cell_type": "code",
   "execution_count": 50,
   "id": "00c05b16-9873-45cc-9e43-bb48399ca391",
   "metadata": {},
   "outputs": [
    {
     "data": {
      "text/html": [
       "<div>\n",
       "<style scoped>\n",
       "    .dataframe tbody tr th:only-of-type {\n",
       "        vertical-align: middle;\n",
       "    }\n",
       "\n",
       "    .dataframe tbody tr th {\n",
       "        vertical-align: top;\n",
       "    }\n",
       "\n",
       "    .dataframe thead th {\n",
       "        text-align: right;\n",
       "    }\n",
       "</style>\n",
       "<table border=\"1\" class=\"dataframe\">\n",
       "  <thead>\n",
       "    <tr style=\"text-align: right;\">\n",
       "      <th>Death1</th>\n",
       "      <th>0</th>\n",
       "      <th>1</th>\n",
       "    </tr>\n",
       "    <tr>\n",
       "      <th>Gender</th>\n",
       "      <th></th>\n",
       "      <th></th>\n",
       "    </tr>\n",
       "  </thead>\n",
       "  <tbody>\n",
       "    <tr>\n",
       "      <th>FEMALE</th>\n",
       "      <td>63.793103</td>\n",
       "      <td>36.206897</td>\n",
       "    </tr>\n",
       "    <tr>\n",
       "      <th>MALE</th>\n",
       "      <td>58.260870</td>\n",
       "      <td>41.739130</td>\n",
       "    </tr>\n",
       "  </tbody>\n",
       "</table>\n",
       "</div>"
      ],
      "text/plain": [
       "Death1          0          1\n",
       "Gender                      \n",
       "FEMALE  63.793103  36.206897\n",
       "MALE    58.260870  41.739130"
      ]
     },
     "execution_count": 50,
     "metadata": {},
     "output_type": "execute_result"
    }
   ],
   "source": [
    "avengers.groupby('Gender')['Death1'].value_counts(normalize=True).unstack()*100"
   ]
  },
  {
   "cell_type": "markdown",
   "id": "70ee4774-843d-4ae4-800e-75abc41af949",
   "metadata": {},
   "source": [
    "### Criando Coluna Condicional - Quartis"
   ]
  },
  {
   "cell_type": "code",
   "execution_count": 52,
   "id": "9e1f4710-19b1-44af-aec9-0eed715bc372",
   "metadata": {},
   "outputs": [],
   "source": [
    "avengers['Quartile'] = pd.qcut(avengers['Appearances'], q=4, labels=['Q1', 'Q2', 'Q3', 'Q4'])"
   ]
  },
  {
   "cell_type": "code",
   "execution_count": 55,
   "id": "bddccb22-25f1-4bec-a21a-322c74f550d2",
   "metadata": {},
   "outputs": [
    {
     "data": {
      "text/html": [
       "<div>\n",
       "<style scoped>\n",
       "    .dataframe tbody tr th:only-of-type {\n",
       "        vertical-align: middle;\n",
       "    }\n",
       "\n",
       "    .dataframe tbody tr th {\n",
       "        vertical-align: top;\n",
       "    }\n",
       "\n",
       "    .dataframe thead th {\n",
       "        text-align: right;\n",
       "    }\n",
       "</style>\n",
       "<table border=\"1\" class=\"dataframe\">\n",
       "  <thead>\n",
       "    <tr style=\"text-align: right;\">\n",
       "      <th></th>\n",
       "      <th>URL</th>\n",
       "      <th>Name/Alias</th>\n",
       "      <th>Appearances</th>\n",
       "      <th>Current?</th>\n",
       "      <th>Gender</th>\n",
       "      <th>Probationary Introl</th>\n",
       "      <th>Full/Reserve Avengers Intro</th>\n",
       "      <th>Year</th>\n",
       "      <th>Years since joining</th>\n",
       "      <th>Honorary</th>\n",
       "      <th>Death1</th>\n",
       "      <th>Return1</th>\n",
       "      <th>Death2</th>\n",
       "      <th>Return2</th>\n",
       "      <th>Death3</th>\n",
       "      <th>Return3</th>\n",
       "      <th>Death4</th>\n",
       "      <th>Return4</th>\n",
       "      <th>Death5</th>\n",
       "      <th>Return5</th>\n",
       "      <th>Notes</th>\n",
       "      <th>Decade</th>\n",
       "      <th>Quartile</th>\n",
       "    </tr>\n",
       "  </thead>\n",
       "  <tbody>\n",
       "    <tr>\n",
       "      <th>0</th>\n",
       "      <td>http://marvel.wikia.com/Henry_Pym_(Earth-616)</td>\n",
       "      <td>Henry Jonathan \"Hank\" Pym</td>\n",
       "      <td>1269</td>\n",
       "      <td>YES</td>\n",
       "      <td>MALE</td>\n",
       "      <td>NaN</td>\n",
       "      <td>Sep-63</td>\n",
       "      <td>1963</td>\n",
       "      <td>52</td>\n",
       "      <td>Full</td>\n",
       "      <td>1</td>\n",
       "      <td>0</td>\n",
       "      <td>NaN</td>\n",
       "      <td>NaN</td>\n",
       "      <td>NaN</td>\n",
       "      <td>NaN</td>\n",
       "      <td>NaN</td>\n",
       "      <td>NaN</td>\n",
       "      <td>NaN</td>\n",
       "      <td>NaN</td>\n",
       "      <td>Merged with Ultron in Rage of Ultron Vol. 1. A...</td>\n",
       "      <td>1960</td>\n",
       "      <td>Q4</td>\n",
       "    </tr>\n",
       "    <tr>\n",
       "      <th>1</th>\n",
       "      <td>http://marvel.wikia.com/Janet_van_Dyne_(Earth-...</td>\n",
       "      <td>Janet van Dyne</td>\n",
       "      <td>1165</td>\n",
       "      <td>YES</td>\n",
       "      <td>FEMALE</td>\n",
       "      <td>NaN</td>\n",
       "      <td>Sep-63</td>\n",
       "      <td>1963</td>\n",
       "      <td>52</td>\n",
       "      <td>Full</td>\n",
       "      <td>1</td>\n",
       "      <td>1</td>\n",
       "      <td>NaN</td>\n",
       "      <td>NaN</td>\n",
       "      <td>NaN</td>\n",
       "      <td>NaN</td>\n",
       "      <td>NaN</td>\n",
       "      <td>NaN</td>\n",
       "      <td>NaN</td>\n",
       "      <td>NaN</td>\n",
       "      <td>Dies in Secret Invasion V1:I8. Actually was se...</td>\n",
       "      <td>1960</td>\n",
       "      <td>Q4</td>\n",
       "    </tr>\n",
       "    <tr>\n",
       "      <th>2</th>\n",
       "      <td>http://marvel.wikia.com/Anthony_Stark_(Earth-616)</td>\n",
       "      <td>Anthony Edward \"Tony\" Stark</td>\n",
       "      <td>3068</td>\n",
       "      <td>YES</td>\n",
       "      <td>MALE</td>\n",
       "      <td>NaN</td>\n",
       "      <td>Sep-63</td>\n",
       "      <td>1963</td>\n",
       "      <td>52</td>\n",
       "      <td>Full</td>\n",
       "      <td>1</td>\n",
       "      <td>1</td>\n",
       "      <td>NaN</td>\n",
       "      <td>NaN</td>\n",
       "      <td>NaN</td>\n",
       "      <td>NaN</td>\n",
       "      <td>NaN</td>\n",
       "      <td>NaN</td>\n",
       "      <td>NaN</td>\n",
       "      <td>NaN</td>\n",
       "      <td>Death: \"Later while under the influence of Imm...</td>\n",
       "      <td>1960</td>\n",
       "      <td>Q4</td>\n",
       "    </tr>\n",
       "    <tr>\n",
       "      <th>3</th>\n",
       "      <td>http://marvel.wikia.com/Robert_Bruce_Banner_(E...</td>\n",
       "      <td>Robert Bruce Banner</td>\n",
       "      <td>2089</td>\n",
       "      <td>YES</td>\n",
       "      <td>MALE</td>\n",
       "      <td>NaN</td>\n",
       "      <td>Sep-63</td>\n",
       "      <td>1963</td>\n",
       "      <td>52</td>\n",
       "      <td>Full</td>\n",
       "      <td>1</td>\n",
       "      <td>1</td>\n",
       "      <td>NaN</td>\n",
       "      <td>NaN</td>\n",
       "      <td>NaN</td>\n",
       "      <td>NaN</td>\n",
       "      <td>NaN</td>\n",
       "      <td>NaN</td>\n",
       "      <td>NaN</td>\n",
       "      <td>NaN</td>\n",
       "      <td>Dies in Ghosts of the Future arc. However \"he ...</td>\n",
       "      <td>1960</td>\n",
       "      <td>Q4</td>\n",
       "    </tr>\n",
       "    <tr>\n",
       "      <th>4</th>\n",
       "      <td>http://marvel.wikia.com/Thor_Odinson_(Earth-616)</td>\n",
       "      <td>Thor Odinson</td>\n",
       "      <td>2402</td>\n",
       "      <td>YES</td>\n",
       "      <td>MALE</td>\n",
       "      <td>NaN</td>\n",
       "      <td>Sep-63</td>\n",
       "      <td>1963</td>\n",
       "      <td>52</td>\n",
       "      <td>Full</td>\n",
       "      <td>1</td>\n",
       "      <td>1</td>\n",
       "      <td>YES</td>\n",
       "      <td>NO</td>\n",
       "      <td>NaN</td>\n",
       "      <td>NaN</td>\n",
       "      <td>NaN</td>\n",
       "      <td>NaN</td>\n",
       "      <td>NaN</td>\n",
       "      <td>NaN</td>\n",
       "      <td>Dies in Fear Itself brought back because that'...</td>\n",
       "      <td>1960</td>\n",
       "      <td>Q4</td>\n",
       "    </tr>\n",
       "  </tbody>\n",
       "</table>\n",
       "</div>"
      ],
      "text/plain": [
       "                                                 URL  \\\n",
       "0      http://marvel.wikia.com/Henry_Pym_(Earth-616)   \n",
       "1  http://marvel.wikia.com/Janet_van_Dyne_(Earth-...   \n",
       "2  http://marvel.wikia.com/Anthony_Stark_(Earth-616)   \n",
       "3  http://marvel.wikia.com/Robert_Bruce_Banner_(E...   \n",
       "4   http://marvel.wikia.com/Thor_Odinson_(Earth-616)   \n",
       "\n",
       "                    Name/Alias  Appearances Current?  Gender  \\\n",
       "0    Henry Jonathan \"Hank\" Pym         1269      YES    MALE   \n",
       "1               Janet van Dyne         1165      YES  FEMALE   \n",
       "2  Anthony Edward \"Tony\" Stark         3068      YES    MALE   \n",
       "3          Robert Bruce Banner         2089      YES    MALE   \n",
       "4                 Thor Odinson         2402      YES    MALE   \n",
       "\n",
       "  Probationary Introl Full/Reserve Avengers Intro  Year  Years since joining  \\\n",
       "0                 NaN                      Sep-63  1963                   52   \n",
       "1                 NaN                      Sep-63  1963                   52   \n",
       "2                 NaN                      Sep-63  1963                   52   \n",
       "3                 NaN                      Sep-63  1963                   52   \n",
       "4                 NaN                      Sep-63  1963                   52   \n",
       "\n",
       "  Honorary  Death1  Return1 Death2 Return2 Death3 Return3 Death4 Return4  \\\n",
       "0     Full       1        0    NaN     NaN    NaN     NaN    NaN     NaN   \n",
       "1     Full       1        1    NaN     NaN    NaN     NaN    NaN     NaN   \n",
       "2     Full       1        1    NaN     NaN    NaN     NaN    NaN     NaN   \n",
       "3     Full       1        1    NaN     NaN    NaN     NaN    NaN     NaN   \n",
       "4     Full       1        1    YES      NO    NaN     NaN    NaN     NaN   \n",
       "\n",
       "  Death5 Return5                                              Notes  Decade  \\\n",
       "0    NaN     NaN  Merged with Ultron in Rage of Ultron Vol. 1. A...    1960   \n",
       "1    NaN     NaN  Dies in Secret Invasion V1:I8. Actually was se...    1960   \n",
       "2    NaN     NaN  Death: \"Later while under the influence of Imm...    1960   \n",
       "3    NaN     NaN  Dies in Ghosts of the Future arc. However \"he ...    1960   \n",
       "4    NaN     NaN  Dies in Fear Itself brought back because that'...    1960   \n",
       "\n",
       "  Quartile  \n",
       "0       Q4  \n",
       "1       Q4  \n",
       "2       Q4  \n",
       "3       Q4  \n",
       "4       Q4  "
      ]
     },
     "execution_count": 55,
     "metadata": {},
     "output_type": "execute_result"
    }
   ],
   "source": [
    "avengers.head()"
   ]
  },
  {
   "cell_type": "code",
   "execution_count": 54,
   "id": "f581359e-c54b-4b4b-9bdf-64087191a464",
   "metadata": {},
   "outputs": [
    {
     "data": {
      "text/plain": [
       "Quartile\n",
       "Q1    44\n",
       "Q2    44\n",
       "Q3    42\n",
       "Q4    43\n",
       "Name: Death1, dtype: int64"
      ]
     },
     "execution_count": 54,
     "metadata": {},
     "output_type": "execute_result"
    }
   ],
   "source": [
    "## checando mortes por quartis\n",
    "\n",
    "avengers.groupby('Quartile')['Death1'].count()"
   ]
  },
  {
   "cell_type": "code",
   "execution_count": 58,
   "id": "dc1213e2-20b8-4499-a043-7923ba51b65d",
   "metadata": {},
   "outputs": [
    {
     "data": {
      "image/png": "[encoded data removed]",
      "text/plain": [
       "<Figure size 640x480 with 1 Axes>"
      ]
     },
     "metadata": {},
     "output_type": "display_data"
    }
   ],
   "source": [
    "sns.histplot(data = avengers, x='Quartile', hue='Death1')\n",
    "plt.title('Distribuição por Gênero')\n",
    "plt.show()\n",
    "plt.close()"
   ]
  },
  {
   "cell_type": "code",
   "execution_count": null,
   "id": "1b840eb9-f88a-4b1d-ba0f-a027c84e10f0",
   "metadata": {},
   "outputs": [],
   "source": []
  }
 ],
 "metadata": {
  "kernelspec": {
   "display_name": "Python 3 (ipykernel)",
   "language": "python",
   "name": "python3"
  },
  "language_info": {
   "codemirror_mode": {
    "name": "ipython",
    "version": 3
   },
   "file_extension": ".py",
   "mimetype": "text/x-python",
   "name": "python",
   "nbconvert_exporter": "python",
   "pygments_lexer": "ipython3",
   "version": "3.8.18"
  }
 },
 "nbformat": 4,
 "nbformat_minor": 5
}
